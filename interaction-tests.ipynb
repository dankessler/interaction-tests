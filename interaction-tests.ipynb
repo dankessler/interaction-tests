{
 "cells": [
  {
   "cell_type": "code",
   "execution_count": 1,
   "metadata": {
    "collapsed": false
   },
   "outputs": [],
   "source": [
    "import numpy as np\n",
    "import pandas as pd\n",
    "from sklearn import linear_model"
   ]
  },
  {
   "cell_type": "code",
   "execution_count": 3,
   "metadata": {
    "collapsed": true
   },
   "outputs": [],
   "source": [
    "testdata = np.random.normal(size=(100,100,30,2))"
   ]
  },
  {
   "cell_type": "code",
   "execution_count": 4,
   "metadata": {
    "collapsed": false
   },
   "outputs": [
    {
     "data": {
      "text/plain": [
       "(100L, 100L, 30L, 2L)"
      ]
     },
     "execution_count": 4,
     "metadata": {},
     "output_type": "execute_result"
    }
   ],
   "source": [
    "def interaction_test(groups,data):\n",
    "    "
   ]
  },
  {
   "cell_type": "code",
   "execution_count": 91,
   "metadata": {
    "collapsed": true
   },
   "outputs": [],
   "source": [
    "def build_group_matrix(n1,n2):\n",
    "    \"\"\"build a design matrix encoding only group\"\"\"\n",
    "    x = np.zeros(shape=(2*(n1+n2),2))\n",
    "    x[:,0]=1\n",
    "    x[2*(n1+1):2*(n1+n2),1]=1\n",
    "    return x"
   ]
  },
  {
   "cell_type": "code",
   "execution_count": 107,
   "metadata": {
    "collapsed": true
   },
   "outputs": [],
   "source": [
    "def build_time_matrix(n1,n2):\n",
    "    x = np.zeros(shape=(2*(n1+n2),2))\n",
    "    x[:,0]=1\n",
    "    x[1:(2*(n1+n2)):2,1]=1\n",
    "    return x"
   ]
  },
  {
   "cell_type": "code",
   "execution_count": 140,
   "metadata": {
    "collapsed": true
   },
   "outputs": [],
   "source": [
    "def build_main_matrix(n1,n2):\n",
    "    x1 = build_group_matrix(n1,n2)\n",
    "    x2 = build_time_matrix(n1,n2)[:,1,None]\n",
    "    x = np.concatenate((x1,x2),axis=1)\n",
    "    return x"
   ]
  },
  {
   "cell_type": "code",
   "execution_count": 141,
   "metadata": {
    "collapsed": false
   },
   "outputs": [],
   "source": [
    "def build_full_matrix(n1,n2):\n",
    "    x1 = build_group_matrix(n1,n2)\n",
    "    x2 = build_time_matrix(n1,n2)[:,1,None]\n",
    "    x = np.concatenate((x1,x2,x2),axis=1)\n",
    "    x[0:(n1+n2),3]=0\n",
    "    return x"
   ]
  },
  {
   "cell_type": "code",
   "execution_count": 143,
   "metadata": {
    "collapsed": false
   },
   "outputs": [],
   "source": [
    "def build_sub_matrix(n1,n2):\n",
    "    n = n1 + n2\n",
    "    x = np.zeros(shape=(n*2,n))\n",
    "    for ind in np.arange(0,n):\n",
    "        x[ind*2:(ind*2+2),ind]=1\n",
    "    return x"
   ]
  },
  {
   "cell_type": "code",
   "execution_count": 144,
   "metadata": {
    "collapsed": false
   },
   "outputs": [
    {
     "data": {
      "text/plain": [
       "array([[ 1.,  0.,  0.,  0.,  0.,  0.],\n",
       "       [ 1.,  0.,  0.,  0.,  0.,  0.],\n",
       "       [ 0.,  1.,  0.,  0.,  0.,  0.],\n",
       "       [ 0.,  1.,  0.,  0.,  0.,  0.],\n",
       "       [ 0.,  0.,  1.,  0.,  0.,  0.],\n",
       "       [ 0.,  0.,  1.,  0.,  0.,  0.],\n",
       "       [ 0.,  0.,  0.,  1.,  0.,  0.],\n",
       "       [ 0.,  0.,  0.,  1.,  0.,  0.],\n",
       "       [ 0.,  0.,  0.,  0.,  1.,  0.],\n",
       "       [ 0.,  0.,  0.,  0.,  1.,  0.],\n",
       "       [ 0.,  0.,  0.,  0.,  0.,  1.],\n",
       "       [ 0.,  0.,  0.,  0.,  0.,  1.]])"
      ]
     },
     "execution_count": 144,
     "metadata": {},
     "output_type": "execute_result"
    }
   ],
   "source": [
    "build_sub_matrix(3,3)"
   ]
  },
  {
   "cell_type": "markdown",
   "metadata": {},
   "source": [
    "## Steps\n",
    "1. build design matrix\n",
    "2. do OLS regression\n",
    "3. get p-values for three contrasts\n",
    "4. conjunction of p-values\n",
    "\n",
    "design matrix: n * 4\n",
    "G1T1, G1T2, G2T1, G2T2"
   ]
  },
  {
   "cell_type": "code",
   "execution_count": 43,
   "metadata": {
    "collapsed": false
   },
   "outputs": [],
   "source": [
    "x = build_design_matrix(10,10)\n",
    "y = np.random.normal(size=(40))"
   ]
  },
  {
   "cell_type": "code",
   "execution_count": 46,
   "metadata": {
    "collapsed": false
   },
   "outputs": [],
   "source": [
    "def fit_ols(x,y):\n",
    "    clf = linear_model.LinearRegression(fit_intercept=False)\n",
    "    clf.fit(x,y)\n",
    "    return clf"
   ]
  },
  {
   "cell_type": "code",
   "execution_count": 49,
   "metadata": {
    "collapsed": false
   },
   "outputs": [],
   "source": [
    "mymod = fit_ols(x,y)"
   ]
  },
  {
   "cell_type": "code",
   "execution_count": 51,
   "metadata": {
    "collapsed": false
   },
   "outputs": [
    {
     "data": {
      "text/plain": [
       "array([ 0.03964523,  0.45252091,  0.24293989,  0.61850413])"
      ]
     },
     "execution_count": 51,
     "metadata": {},
     "output_type": "execute_result"
    }
   ],
   "source": [
    "def ss_sub(y,n1,n2):\n",
    "    "
   ]
  },
  {
   "cell_type": "code",
   "execution_count": null,
   "metadata": {
    "collapsed": true
   },
   "outputs": [],
   "source": [
    "def ss_group"
   ]
  },
  {
   "cell_type": "code",
   "execution_count": null,
   "metadata": {
    "collapsed": true
   },
   "outputs": [],
   "source": [
    "def ss_time"
   ]
  },
  {
   "cell_type": "code",
   "execution_count": null,
   "metadata": {
    "collapsed": true
   },
   "outputs": [],
   "source": [
    "def ss_int"
   ]
  },
  {
   "cell_type": "code",
   "execution_count": null,
   "metadata": {
    "collapsed": true
   },
   "outputs": [],
   "source": [
    "np.linalg.pinv()"
   ]
  },
  {
   "cell_type": "code",
   "execution_count": 149,
   "metadata": {
    "collapsed": true
   },
   "outputs": [],
   "source": [
    "def ss_partition(x,y):\n",
    "    \"\"\"for design matrix x and observations y,\n",
    "    do OLS and partition sums of squares\n",
    "    SStot: Fr(Y)\n",
    "    SSerr: Fr(Y-Yhat)\n",
    "    SSexp: SStot - SSerr\"\"\"\n",
    "    y = y-np.mean(y)\n",
    "    hat = np.dot(x,np.linalg.pinv(x))\n",
    "    yhat = np.dot(hat,y)\n",
    "    sstot = np.sum(np.square(y))\n",
    "    sserr = np.sum(np.square(y-yhat))\n",
    "    ssexp = sstot - sserr\n",
    "    return [sstot,sserr,ssexp]"
   ]
  },
  {
   "cell_type": "code",
   "execution_count": 148,
   "metadata": {
    "collapsed": false
   },
   "outputs": [
    {
     "name": "stdout",
     "output_type": "stream",
     "text": [
      "[26.695295930382088, 25.447177833388853, 1.2481180969932346]\n",
      "[26.695295930382088, 25.350333361901065, 1.3449625684810229]\n",
      "[26.695295930382088, 24.102215264907834, 2.593080665474254]\n",
      "[26.695295930382088, 23.586697995057108, 3.1085979353249797]\n",
      "[26.695295930382088, 11.355826330480628, 15.339469599901459]\n"
     ]
    }
   ],
   "source": [
    "# test case\n",
    "n1=10\n",
    "n2=10\n",
    "y = np.random.normal(size=(40))\n",
    "y = y - np.mean(y)\n",
    "\n",
    "print ss_partition(build_group_matrix(n1,n2),y)\n",
    "print ss_partition(build_time_matrix(n1,n2),y)\n",
    "print ss_partition(build_main_matrix(n1,n2),y)\n",
    "print ss_partition(build_full_matrix(n1,n2),y)\n",
    "print ss_partition(build_sub_matrix(n1,n2),y)\n",
    "\n",
    "ss_group=ss_partition(build_group_matrix(n1,n2),y)[2]\n",
    "ss_time=ss_partition(build_time_matrix(n1,n2),y)[2]\n",
    "ss_interaction = ss_partition(build_full_matrix(n1,n2),y)[2] - ss_partition(build_main_matrix(n1,n2),y)[2]\n",
    "\n"
   ]
  },
  {
   "cell_type": "code",
   "execution_count": 76,
   "metadata": {
    "collapsed": false
   },
   "outputs": [
    {
     "data": {
      "text/plain": [
       "array([[ 1.,  0.,  0.,  0.],\n",
       "       [ 1.,  0.,  0.,  0.],\n",
       "       [ 1.,  0.,  0.,  0.],\n",
       "       [ 1.,  0.,  0.,  0.],\n",
       "       [ 1.,  0.,  0.,  0.],\n",
       "       [ 1.,  0.,  0.,  0.],\n",
       "       [ 1.,  0.,  0.,  0.],\n",
       "       [ 1.,  0.,  0.,  0.],\n",
       "       [ 1.,  0.,  0.,  0.],\n",
       "       [ 1.,  0.,  0.,  0.],\n",
       "       [ 0.,  1.,  0.,  0.],\n",
       "       [ 0.,  1.,  0.,  0.],\n",
       "       [ 0.,  1.,  0.,  0.],\n",
       "       [ 0.,  1.,  0.,  0.],\n",
       "       [ 0.,  1.,  0.,  0.],\n",
       "       [ 0.,  1.,  0.,  0.],\n",
       "       [ 0.,  1.,  0.,  0.],\n",
       "       [ 0.,  1.,  0.,  0.],\n",
       "       [ 0.,  1.,  0.,  0.],\n",
       "       [ 0.,  1.,  0.,  0.],\n",
       "       [ 0.,  0.,  1.,  0.],\n",
       "       [ 0.,  0.,  1.,  0.],\n",
       "       [ 0.,  0.,  1.,  0.],\n",
       "       [ 0.,  0.,  1.,  0.],\n",
       "       [ 0.,  0.,  1.,  0.],\n",
       "       [ 0.,  0.,  1.,  0.],\n",
       "       [ 0.,  0.,  1.,  0.],\n",
       "       [ 0.,  0.,  1.,  0.],\n",
       "       [ 0.,  0.,  1.,  0.],\n",
       "       [ 0.,  0.,  1.,  0.],\n",
       "       [ 0.,  0.,  0.,  1.],\n",
       "       [ 0.,  0.,  0.,  1.],\n",
       "       [ 0.,  0.,  0.,  1.],\n",
       "       [ 0.,  0.,  0.,  1.],\n",
       "       [ 0.,  0.,  0.,  1.],\n",
       "       [ 0.,  0.,  0.,  1.],\n",
       "       [ 0.,  0.,  0.,  1.],\n",
       "       [ 0.,  0.,  0.,  1.],\n",
       "       [ 0.,  0.,  0.,  1.],\n",
       "       [ 0.,  0.,  0.,  1.]])"
      ]
     },
     "execution_count": 76,
     "metadata": {},
     "output_type": "execute_result"
    }
   ],
   "source": [
    "# ss group: ss_resid_null - ss_resid_group\n",
    "ss_resid()"
   ]
  },
  {
   "cell_type": "code",
   "execution_count": 16,
   "metadata": {
    "collapsed": true
   },
   "outputs": [],
   "source": [
    "sub=[1,1,2,2,3,3,4,4]\n",
    "group=[1,1,1,1,2,2,2,2]\n",
    "time=[1,2,1,2,1,2,1,2]\n",
    "meas=np.random.normal(size=8)"
   ]
  },
  {
   "cell_type": "code",
   "execution_count": 39,
   "metadata": {
    "collapsed": false
   },
   "outputs": [],
   "source": [
    "somedata = pd.DataFrame({'sub':sub,'group':group,'time':time,'meas':meas})"
   ]
  },
  {
   "cell_type": "code",
   "execution_count": 41,
   "metadata": {
    "collapsed": false
   },
   "outputs": [
    {
     "data": {
      "text/html": [
       "<div>\n",
       "<table border=\"1\" class=\"dataframe\">\n",
       "  <thead>\n",
       "    <tr style=\"text-align: right;\">\n",
       "      <th></th>\n",
       "      <th>group</th>\n",
       "      <th>meas</th>\n",
       "      <th>sub</th>\n",
       "      <th>time</th>\n",
       "    </tr>\n",
       "  </thead>\n",
       "  <tbody>\n",
       "    <tr>\n",
       "      <th>0</th>\n",
       "      <td>1</td>\n",
       "      <td>-0.877184</td>\n",
       "      <td>1</td>\n",
       "      <td>1</td>\n",
       "    </tr>\n",
       "    <tr>\n",
       "      <th>1</th>\n",
       "      <td>1</td>\n",
       "      <td>0.493297</td>\n",
       "      <td>1</td>\n",
       "      <td>2</td>\n",
       "    </tr>\n",
       "    <tr>\n",
       "      <th>2</th>\n",
       "      <td>1</td>\n",
       "      <td>1.548044</td>\n",
       "      <td>2</td>\n",
       "      <td>1</td>\n",
       "    </tr>\n",
       "    <tr>\n",
       "      <th>3</th>\n",
       "      <td>1</td>\n",
       "      <td>-0.689882</td>\n",
       "      <td>2</td>\n",
       "      <td>2</td>\n",
       "    </tr>\n",
       "    <tr>\n",
       "      <th>4</th>\n",
       "      <td>2</td>\n",
       "      <td>-0.560323</td>\n",
       "      <td>3</td>\n",
       "      <td>1</td>\n",
       "    </tr>\n",
       "    <tr>\n",
       "      <th>5</th>\n",
       "      <td>2</td>\n",
       "      <td>-0.247554</td>\n",
       "      <td>3</td>\n",
       "      <td>2</td>\n",
       "    </tr>\n",
       "    <tr>\n",
       "      <th>6</th>\n",
       "      <td>2</td>\n",
       "      <td>-1.029917</td>\n",
       "      <td>4</td>\n",
       "      <td>1</td>\n",
       "    </tr>\n",
       "    <tr>\n",
       "      <th>7</th>\n",
       "      <td>2</td>\n",
       "      <td>-0.320654</td>\n",
       "      <td>4</td>\n",
       "      <td>2</td>\n",
       "    </tr>\n",
       "  </tbody>\n",
       "</table>\n",
       "</div>"
      ],
      "text/plain": [
       "   group      meas  sub  time\n",
       "0      1 -0.877184    1     1\n",
       "1      1  0.493297    1     2\n",
       "2      1  1.548044    2     1\n",
       "3      1 -0.689882    2     2\n",
       "4      2 -0.560323    3     1\n",
       "5      2 -0.247554    3     2\n",
       "6      2 -1.029917    4     1\n",
       "7      2 -0.320654    4     2"
      ]
     },
     "execution_count": 41,
     "metadata": {},
     "output_type": "execute_result"
    }
   ],
   "source": [
    "somedata"
   ]
  },
  {
   "cell_type": "code",
   "execution_count": 75,
   "metadata": {
    "collapsed": false
   },
   "outputs": [
    {
     "name": "stdout",
     "output_type": "stream",
     "text": [
      "-0.210521649305\n"
     ]
    }
   ],
   "source": [
    "globmean = somedata.meas.mean()\n",
    "print globmean"
   ]
  },
  {
   "cell_type": "code",
   "execution_count": 98,
   "metadata": {
    "collapsed": false
   },
   "outputs": [
    {
     "name": "stdout",
     "output_type": "stream",
     "text": [
      "time\n",
      "1   -0.229845\n",
      "2   -0.191198\n",
      "Name: meas, dtype: float64\n"
     ]
    }
   ],
   "source": [
    "bytime = somedata.pivot_table(index='time',values='meas')\n",
    "print bytime"
   ]
  },
  {
   "cell_type": "code",
   "execution_count": 99,
   "metadata": {
    "collapsed": false
   },
   "outputs": [
    {
     "name": "stdout",
     "output_type": "stream",
     "text": [
      "group\n",
      "1    0.118569\n",
      "2   -0.539612\n",
      "Name: meas, dtype: float64\n"
     ]
    }
   ],
   "source": [
    "bygroup = somedata.pivot_table(index='group',values='meas')\n",
    "print bygroup"
   ]
  },
  {
   "cell_type": "code",
   "execution_count": 79,
   "metadata": {
    "collapsed": false
   },
   "outputs": [
    {
     "name": "stdout",
     "output_type": "stream",
     "text": [
      "group  time\n",
      "1      1       0.335430\n",
      "       2      -0.098292\n",
      "2      1      -0.795120\n",
      "       2      -0.284104\n",
      "Name: meas, dtype: float64\n"
     ]
    }
   ],
   "source": [
    "bycell = somedata.pivot_table(index=['group','time'],values='meas')\n",
    "print bycell"
   ]
  },
  {
   "cell_type": "code",
   "execution_count": 105,
   "metadata": {
    "collapsed": true
   },
   "outputs": [],
   "source": [
    "def ss(df):\n",
    "    return np.square(df).sum()"
   ]
  },
  {
   "cell_type": "code",
   "execution_count": 106,
   "metadata": {
    "collapsed": false,
    "scrolled": true
   },
   "outputs": [
    {
     "data": {
      "text/plain": [
       "0.22313301487797357"
      ]
     },
     "execution_count": 106,
     "metadata": {},
     "output_type": "execute_result"
    }
   ],
   "source": [
    "ss(bycell - bygroup - bytime + globmean)"
   ]
  },
  {
   "cell_type": "code",
   "execution_count": 107,
   "metadata": {
    "collapsed": false
   },
   "outputs": [
    {
     "data": {
      "text/plain": [
       "0.00074679816513206212"
      ]
     },
     "execution_count": 107,
     "metadata": {},
     "output_type": "execute_result"
    }
   ],
   "source": [
    "ss(bytime-globmean)"
   ]
  },
  {
   "cell_type": "code",
   "execution_count": 108,
   "metadata": {
    "collapsed": false
   },
   "outputs": [
    {
     "data": {
      "text/plain": [
       "0.21660103548041004"
      ]
     },
     "execution_count": 108,
     "metadata": {},
     "output_type": "execute_result"
    }
   ],
   "source": [
    "ss(bygroup-globmean)"
   ]
  },
  {
   "cell_type": "code",
   "execution_count": 114,
   "metadata": {
    "collapsed": false
   },
   "outputs": [
    {
     "name": "stdout",
     "output_type": "stream",
     "text": [
      "sub  group  time\n",
      "1    1      1      -0.877184\n",
      "            2       0.493297\n",
      "2    1      1       1.548044\n",
      "            2      -0.689882\n",
      "3    2      1      -0.560323\n",
      "            2      -0.247554\n",
      "4    2      1      -1.029917\n",
      "            2      -0.320654\n",
      "Name: meas, dtype: float64\n"
     ]
    }
   ],
   "source": [
    "byobs = somedata.pivot_table(index=['sub','group','time'],values='meas')\n",
    "print byobs"
   ]
  },
  {
   "cell_type": "code",
   "execution_count": 130,
   "metadata": {
    "collapsed": false
   },
   "outputs": [],
   "source": [
    "temp = somedata.groupby(['group','time']).mean()"
   ]
  },
  {
   "cell_type": "code",
   "execution_count": 142,
   "metadata": {
    "collapsed": false
   },
   "outputs": [],
   "source": [
    "myleft = somedata\n",
    "myright = somedata.groupby(['group','time']).mean().reset_index()"
   ]
  },
  {
   "cell_type": "code",
   "execution_count": 148,
   "metadata": {
    "collapsed": false
   },
   "outputs": [
    {
     "data": {
      "text/html": [
       "<div>\n",
       "<table border=\"1\" class=\"dataframe\">\n",
       "  <thead>\n",
       "    <tr style=\"text-align: right;\">\n",
       "      <th></th>\n",
       "      <th>group</th>\n",
       "      <th>time</th>\n",
       "      <th>meas</th>\n",
       "      <th>sub</th>\n",
       "    </tr>\n",
       "  </thead>\n",
       "  <tbody>\n",
       "    <tr>\n",
       "      <th>0</th>\n",
       "      <td>1</td>\n",
       "      <td>1</td>\n",
       "      <td>0.335430</td>\n",
       "      <td>1.5</td>\n",
       "    </tr>\n",
       "    <tr>\n",
       "      <th>1</th>\n",
       "      <td>1</td>\n",
       "      <td>2</td>\n",
       "      <td>-0.098292</td>\n",
       "      <td>1.5</td>\n",
       "    </tr>\n",
       "    <tr>\n",
       "      <th>2</th>\n",
       "      <td>2</td>\n",
       "      <td>1</td>\n",
       "      <td>-0.795120</td>\n",
       "      <td>3.5</td>\n",
       "    </tr>\n",
       "    <tr>\n",
       "      <th>3</th>\n",
       "      <td>2</td>\n",
       "      <td>2</td>\n",
       "      <td>-0.284104</td>\n",
       "      <td>3.5</td>\n",
       "    </tr>\n",
       "  </tbody>\n",
       "</table>\n",
       "</div>"
      ],
      "text/plain": [
       "   group  time      meas  sub\n",
       "0      1     1  0.335430  1.5\n",
       "1      1     2 -0.098292  1.5\n",
       "2      2     1 -0.795120  3.5\n",
       "3      2     2 -0.284104  3.5"
      ]
     },
     "execution_count": 148,
     "metadata": {},
     "output_type": "execute_result"
    }
   ],
   "source": [
    "somedata.groupby(['group','time']).mean().reset_index()"
   ]
  },
  {
   "cell_type": "code",
   "execution_count": 143,
   "metadata": {
    "collapsed": false
   },
   "outputs": [
    {
     "name": "stdout",
     "output_type": "stream",
     "text": [
      "   group      meas  sub  time\n",
      "0      1 -0.877184    1     1\n",
      "1      1  0.493297    1     2\n",
      "2      1  1.548044    2     1\n",
      "3      1 -0.689882    2     2\n",
      "4      2 -0.560323    3     1\n",
      "5      2 -0.247554    3     2\n",
      "6      2 -1.029917    4     1\n",
      "7      2 -0.320654    4     2\n",
      "   group  time      meas  sub\n",
      "0      1     1  0.335430  1.5\n",
      "1      1     2 -0.098292  1.5\n",
      "2      2     1 -0.795120  3.5\n",
      "3      2     2 -0.284104  3.5\n"
     ]
    }
   ],
   "source": [
    "print myleft\n",
    "print myright"
   ]
  },
  {
   "cell_type": "code",
   "execution_count": 145,
   "metadata": {
    "collapsed": false
   },
   "outputs": [],
   "source": [
    "mymerge = pd.merge(left=myleft,right=myright,how='left',on=['group','time'])"
   ]
  },
  {
   "cell_type": "code",
   "execution_count": 157,
   "metadata": {
    "collapsed": false
   },
   "outputs": [
    {
     "data": {
      "text/plain": [
       "0   -1.212614\n",
       "1    0.591590\n",
       "2    1.212614\n",
       "3   -0.591590\n",
       "4    0.234797\n",
       "5    0.036550\n",
       "6   -0.234797\n",
       "7   -0.036550\n",
       "dtype: float64"
      ]
     },
     "execution_count": 157,
     "metadata": {},
     "output_type": "execute_result"
    }
   ],
   "source": [
    "mymerge['meas_x'] - mymerge['meas_y']"
   ]
  }
 ],
 "metadata": {
  "kernelspec": {
   "display_name": "Python 2",
   "language": "python",
   "name": "python2"
  },
  "language_info": {
   "codemirror_mode": {
    "name": "ipython",
    "version": 2
   },
   "file_extension": ".py",
   "mimetype": "text/x-python",
   "name": "python",
   "nbconvert_exporter": "python",
   "pygments_lexer": "ipython2",
   "version": "2.7.10"
  }
 },
 "nbformat": 4,
 "nbformat_minor": 0
}

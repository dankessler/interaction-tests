{
 "cells": [
  {
   "cell_type": "code",
   "execution_count": 37,
   "metadata": {
    "collapsed": false
   },
   "outputs": [],
   "source": [
    "import numpy as np\n",
    "from sklearn import linear_model"
   ]
  },
  {
   "cell_type": "code",
   "execution_count": 3,
   "metadata": {
    "collapsed": true
   },
   "outputs": [],
   "source": [
    "testdata = np.random.normal(size=(100,100,30,2))"
   ]
  },
  {
   "cell_type": "code",
   "execution_count": 4,
   "metadata": {
    "collapsed": false
   },
   "outputs": [
    {
     "data": {
      "text/plain": [
       "(100L, 100L, 30L, 2L)"
      ]
     },
     "execution_count": 4,
     "metadata": {},
     "output_type": "execute_result"
    }
   ],
   "source": [
    "def interaction_test(groups,data):\n",
    "    "
   ]
  },
  {
   "cell_type": "code",
   "execution_count": 91,
   "metadata": {
    "collapsed": true
   },
   "outputs": [],
   "source": [
    "def build_group_matrix(n1,n2):\n",
    "    \"\"\"build a design matrix encoding only group\"\"\"\n",
    "    x = np.zeros(shape=(2*(n1+n2),2))\n",
    "    x[:,0]=1\n",
    "    x[2*(n1+1):2*(n1+n2),1]=1\n",
    "    return x"
   ]
  },
  {
   "cell_type": "code",
   "execution_count": 107,
   "metadata": {
    "collapsed": true
   },
   "outputs": [],
   "source": [
    "def build_time_matrix(n1,n2):\n",
    "    x = np.zeros(shape=(2*(n1+n2),2))\n",
    "    x[:,0]=1\n",
    "    x[1:(2*(n1+n2)):2,1]=1\n",
    "    return x"
   ]
  },
  {
   "cell_type": "code",
   "execution_count": 140,
   "metadata": {
    "collapsed": true
   },
   "outputs": [],
   "source": [
    "def build_main_matrix(n1,n2):\n",
    "    x1 = build_group_matrix(n1,n2)\n",
    "    x2 = build_time_matrix(n1,n2)[:,1,None]\n",
    "    x = np.concatenate((x1,x2),axis=1)\n",
    "    return x"
   ]
  },
  {
   "cell_type": "code",
   "execution_count": 141,
   "metadata": {
    "collapsed": false
   },
   "outputs": [],
   "source": [
    "def build_full_matrix(n1,n2):\n",
    "    x1 = build_group_matrix(n1,n2)\n",
    "    x2 = build_time_matrix(n1,n2)[:,1,None]\n",
    "    x = np.concatenate((x1,x2,x2),axis=1)\n",
    "    x[0:(n1+n2),3]=0\n",
    "    return x"
   ]
  },
  {
   "cell_type": "code",
   "execution_count": 143,
   "metadata": {
    "collapsed": false
   },
   "outputs": [],
   "source": [
    "def build_sub_matrix(n1,n2):\n",
    "    n = n1 + n2\n",
    "    x = np.zeros(shape=(n*2,n))\n",
    "    for ind in np.arange(0,n):\n",
    "        x[ind*2:(ind*2+2),ind]=1\n",
    "    return x"
   ]
  },
  {
   "cell_type": "code",
   "execution_count": 144,
   "metadata": {
    "collapsed": false
   },
   "outputs": [
    {
     "data": {
      "text/plain": [
       "array([[ 1.,  0.,  0.,  0.,  0.,  0.],\n",
       "       [ 1.,  0.,  0.,  0.,  0.,  0.],\n",
       "       [ 0.,  1.,  0.,  0.,  0.,  0.],\n",
       "       [ 0.,  1.,  0.,  0.,  0.,  0.],\n",
       "       [ 0.,  0.,  1.,  0.,  0.,  0.],\n",
       "       [ 0.,  0.,  1.,  0.,  0.,  0.],\n",
       "       [ 0.,  0.,  0.,  1.,  0.,  0.],\n",
       "       [ 0.,  0.,  0.,  1.,  0.,  0.],\n",
       "       [ 0.,  0.,  0.,  0.,  1.,  0.],\n",
       "       [ 0.,  0.,  0.,  0.,  1.,  0.],\n",
       "       [ 0.,  0.,  0.,  0.,  0.,  1.],\n",
       "       [ 0.,  0.,  0.,  0.,  0.,  1.]])"
      ]
     },
     "execution_count": 144,
     "metadata": {},
     "output_type": "execute_result"
    }
   ],
   "source": [
    "build_sub_matrix(3,3)"
   ]
  },
  {
   "cell_type": "markdown",
   "metadata": {},
   "source": [
    "## Steps\n",
    "1. build design matrix\n",
    "2. do OLS regression\n",
    "3. get p-values for three contrasts\n",
    "4. conjunction of p-values\n",
    "\n",
    "design matrix: n * 4\n",
    "G1T1, G1T2, G2T1, G2T2"
   ]
  },
  {
   "cell_type": "code",
   "execution_count": 43,
   "metadata": {
    "collapsed": false
   },
   "outputs": [],
   "source": [
    "x = build_design_matrix(10,10)\n",
    "y = np.random.normal(size=(40))"
   ]
  },
  {
   "cell_type": "code",
   "execution_count": 46,
   "metadata": {
    "collapsed": false
   },
   "outputs": [],
   "source": [
    "def fit_ols(x,y):\n",
    "    clf = linear_model.LinearRegression(fit_intercept=False)\n",
    "    clf.fit(x,y)\n",
    "    return clf"
   ]
  },
  {
   "cell_type": "code",
   "execution_count": 49,
   "metadata": {
    "collapsed": false
   },
   "outputs": [],
   "source": [
    "mymod = fit_ols(x,y)"
   ]
  },
  {
   "cell_type": "code",
   "execution_count": 51,
   "metadata": {
    "collapsed": false
   },
   "outputs": [
    {
     "data": {
      "text/plain": [
       "array([ 0.03964523,  0.45252091,  0.24293989,  0.61850413])"
      ]
     },
     "execution_count": 51,
     "metadata": {},
     "output_type": "execute_result"
    }
   ],
   "source": [
    "def ss_sub(y,n1,n2):\n",
    "    "
   ]
  },
  {
   "cell_type": "code",
   "execution_count": null,
   "metadata": {
    "collapsed": true
   },
   "outputs": [],
   "source": [
    "def ss_group"
   ]
  },
  {
   "cell_type": "code",
   "execution_count": null,
   "metadata": {
    "collapsed": true
   },
   "outputs": [],
   "source": [
    "def ss_time"
   ]
  },
  {
   "cell_type": "code",
   "execution_count": null,
   "metadata": {
    "collapsed": true
   },
   "outputs": [],
   "source": [
    "def ss_int"
   ]
  },
  {
   "cell_type": "code",
   "execution_count": null,
   "metadata": {
    "collapsed": true
   },
   "outputs": [],
   "source": [
    "np.linalg.pinv()"
   ]
  },
  {
   "cell_type": "code",
   "execution_count": 149,
   "metadata": {
    "collapsed": true
   },
   "outputs": [],
   "source": [
    "def ss_partition(x,y):\n",
    "    \"\"\"for design matrix x and observations y,\n",
    "    do OLS and partition sums of squares\n",
    "    SStot: Fr(Y)\n",
    "    SSerr: Fr(Y-Yhat)\n",
    "    SSexp: SStot - SSerr\"\"\"\n",
    "    y = y-np.mean(y)\n",
    "    hat = np.dot(x,np.linalg.pinv(x))\n",
    "    yhat = np.dot(hat,y)\n",
    "    sstot = np.sum(np.square(y))\n",
    "    sserr = np.sum(np.square(y-yhat))\n",
    "    ssexp = sstot - sserr\n",
    "    return [sstot,sserr,ssexp]"
   ]
  },
  {
   "cell_type": "code",
   "execution_count": 148,
   "metadata": {
    "collapsed": false
   },
   "outputs": [
    {
     "name": "stdout",
     "output_type": "stream",
     "text": [
      "[26.695295930382088, 25.447177833388853, 1.2481180969932346]\n",
      "[26.695295930382088, 25.350333361901065, 1.3449625684810229]\n",
      "[26.695295930382088, 24.102215264907834, 2.593080665474254]\n",
      "[26.695295930382088, 23.586697995057108, 3.1085979353249797]\n",
      "[26.695295930382088, 11.355826330480628, 15.339469599901459]\n"
     ]
    }
   ],
   "source": [
    "# test case\n",
    "n1=10\n",
    "n2=10\n",
    "y = np.random.normal(size=(40))\n",
    "y = y - np.mean(y)\n",
    "\n",
    "print ss_partition(build_group_matrix(n1,n2),y)\n",
    "print ss_partition(build_time_matrix(n1,n2),y)\n",
    "print ss_partition(build_main_matrix(n1,n2),y)\n",
    "print ss_partition(build_full_matrix(n1,n2),y)\n",
    "print ss_partition(build_sub_matrix(n1,n2),y)\n",
    "\n",
    "ss_group=ss_partition(build_group_matrix(n1,n2),y)[2]\n",
    "ss_time=ss_partition(build_time_matrix(n1,n2),y)[2]\n",
    "ss_interaction = ss_partition(build_full_matrix(n1,n2),y)[2] - ss_partition(build_main_matrix(n1,n2),y)[2]\n",
    "\n"
   ]
  },
  {
   "cell_type": "code",
   "execution_count": 76,
   "metadata": {
    "collapsed": false
   },
   "outputs": [
    {
     "data": {
      "text/plain": [
       "array([[ 1.,  0.,  0.,  0.],\n",
       "       [ 1.,  0.,  0.,  0.],\n",
       "       [ 1.,  0.,  0.,  0.],\n",
       "       [ 1.,  0.,  0.,  0.],\n",
       "       [ 1.,  0.,  0.,  0.],\n",
       "       [ 1.,  0.,  0.,  0.],\n",
       "       [ 1.,  0.,  0.,  0.],\n",
       "       [ 1.,  0.,  0.,  0.],\n",
       "       [ 1.,  0.,  0.,  0.],\n",
       "       [ 1.,  0.,  0.,  0.],\n",
       "       [ 0.,  1.,  0.,  0.],\n",
       "       [ 0.,  1.,  0.,  0.],\n",
       "       [ 0.,  1.,  0.,  0.],\n",
       "       [ 0.,  1.,  0.,  0.],\n",
       "       [ 0.,  1.,  0.,  0.],\n",
       "       [ 0.,  1.,  0.,  0.],\n",
       "       [ 0.,  1.,  0.,  0.],\n",
       "       [ 0.,  1.,  0.,  0.],\n",
       "       [ 0.,  1.,  0.,  0.],\n",
       "       [ 0.,  1.,  0.,  0.],\n",
       "       [ 0.,  0.,  1.,  0.],\n",
       "       [ 0.,  0.,  1.,  0.],\n",
       "       [ 0.,  0.,  1.,  0.],\n",
       "       [ 0.,  0.,  1.,  0.],\n",
       "       [ 0.,  0.,  1.,  0.],\n",
       "       [ 0.,  0.,  1.,  0.],\n",
       "       [ 0.,  0.,  1.,  0.],\n",
       "       [ 0.,  0.,  1.,  0.],\n",
       "       [ 0.,  0.,  1.,  0.],\n",
       "       [ 0.,  0.,  1.,  0.],\n",
       "       [ 0.,  0.,  0.,  1.],\n",
       "       [ 0.,  0.,  0.,  1.],\n",
       "       [ 0.,  0.,  0.,  1.],\n",
       "       [ 0.,  0.,  0.,  1.],\n",
       "       [ 0.,  0.,  0.,  1.],\n",
       "       [ 0.,  0.,  0.,  1.],\n",
       "       [ 0.,  0.,  0.,  1.],\n",
       "       [ 0.,  0.,  0.,  1.],\n",
       "       [ 0.,  0.,  0.,  1.],\n",
       "       [ 0.,  0.,  0.,  1.]])"
      ]
     },
     "execution_count": 76,
     "metadata": {},
     "output_type": "execute_result"
    }
   ],
   "source": [
    "# ss group: ss_resid_null - ss_resid_group\n",
    "ss_resid()"
   ]
  }
 ],
 "metadata": {
  "kernelspec": {
   "display_name": "Python 2",
   "language": "python",
   "name": "python2"
  },
  "language_info": {
   "codemirror_mode": {
    "name": "ipython",
    "version": 2
   },
   "file_extension": ".py",
   "mimetype": "text/x-python",
   "name": "python",
   "nbconvert_exporter": "python",
   "pygments_lexer": "ipython2",
   "version": "2.7.10"
  }
 },
 "nbformat": 4,
 "nbformat_minor": 0
}

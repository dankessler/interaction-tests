{
 "cells": [
  {
   "cell_type": "code",
   "execution_count": 16,
   "metadata": {
    "collapsed": false
   },
   "outputs": [],
   "source": [
    "import pandas as pd\n",
    "import scipy.io as sio\n",
    "import numpy as np"
   ]
  },
  {
   "cell_type": "markdown",
   "metadata": {},
   "source": [
    "# Workflow\n",
    "1. Load data\n",
    "2. Assign subjects to groups\n",
    "3. Loop over features\n",
    "4. Calculate various interaction test p values\n",
    "5. Retain p values\n",
    "6. Repeat steps 2-5 many times "
   ]
  },
  {
   "cell_type": "code",
   "execution_count": 73,
   "metadata": {
    "collapsed": true
   },
   "outputs": [],
   "source": [
    "def load_data(path):\n",
    "    subs = sio.loadmat(path)['DATAfin']\n",
    "    return subs"
   ]
  },
  {
   "cell_type": "code",
   "execution_count": 74,
   "metadata": {
    "collapsed": true
   },
   "outputs": [],
   "source": [
    "def assign_sample_groups(subs,n):\n",
    "    subsample = np.random.choice(subs.shape[0],n*2)\n",
    "    g1 = subs[subsample[0:n],:]\n",
    "    g2 = subs[subsample[0:n],:]\n",
    "    y = np.repeat(['A','B'],n)\n",
    "    x = np.vstack((g1,g2))\n",
    "    return x,y"
   ]
  },
  {
   "cell_type": "code",
   "execution_count": 91,
   "metadata": {
    "collapsed": false
   },
   "outputs": [],
   "source": [
    "def feat_loop(x,y):\n",
    "    sps = np.apply_along_axis(func1d=int_ps,axis=0,arr=x,y=y)\n",
    "    return sps"
   ]
  },
  {
   "cell_type": "code",
   "execution_count": 92,
   "metadata": {
    "collapsed": true
   },
   "outputs": [],
   "source": [
    "def int_ps(f,y,funcs):\n",
    "    \"\"\"For a given feature f (1d array) and design y,\n",
    "    run all interaction tests from the list funcs and\n",
    "    return associated p values\"\"\"\n",
    "    return .06"
   ]
  },
  {
   "cell_type": "code",
   "execution_count": 100,
   "metadata": {
    "collapsed": true
   },
   "outputs": [],
   "source": [
    "# set optons\n",
    "reps = 5 # how many times to repeat the experiment\n",
    "n = 20 # how many subjects to put in each group"
   ]
  },
  {
   "cell_type": "code",
   "execution_count": 101,
   "metadata": {
    "collapsed": false
   },
   "outputs": [],
   "source": [
    "# run the workflow\n",
    "subs = load_data('/home/kesslerd/Downloads/48subjEOEC_ECEC.mat')\n",
    "myps = np.empty(shape=(reps,subs.shape[1]))\n",
    "\n",
    "for i in xrange(reps):\n",
    "    x,y = assign_sample_groups(subs,n)\n",
    "    myps[i,:] = feat_loop(x,y)"
   ]
  },
  {
   "cell_type": "code",
   "execution_count": 102,
   "metadata": {
    "collapsed": false
   },
   "outputs": [
    {
     "data": {
      "text/plain": [
       "(5, 90672)"
      ]
     },
     "execution_count": 102,
     "metadata": {},
     "output_type": "execute_result"
    }
   ],
   "source": [
    "myps.shape"
   ]
  },
  {
   "cell_type": "code",
   "execution_count": 103,
   "metadata": {
    "collapsed": false
   },
   "outputs": [
    {
     "data": {
      "text/plain": [
       "array([[ 0.06,  0.06,  0.06, ...,  0.06,  0.06,  0.06],\n",
       "       [ 0.06,  0.06,  0.06, ...,  0.06,  0.06,  0.06],\n",
       "       [ 0.06,  0.06,  0.06, ...,  0.06,  0.06,  0.06],\n",
       "       [ 0.06,  0.06,  0.06, ...,  0.06,  0.06,  0.06],\n",
       "       [ 0.06,  0.06,  0.06, ...,  0.06,  0.06,  0.06]])"
      ]
     },
     "execution_count": 103,
     "metadata": {},
     "output_type": "execute_result"
    }
   ],
   "source": [
    "myps"
   ]
  }
 ],
 "metadata": {
  "kernelspec": {
   "display_name": "Python 2",
   "language": "python",
   "name": "python2"
  },
  "language_info": {
   "codemirror_mode": {
    "name": "ipython",
    "version": 2
   },
   "file_extension": ".py",
   "mimetype": "text/x-python",
   "name": "python",
   "nbconvert_exporter": "python",
   "pygments_lexer": "ipython2",
   "version": "2.7.9"
  }
 },
 "nbformat": 4,
 "nbformat_minor": 0
}
